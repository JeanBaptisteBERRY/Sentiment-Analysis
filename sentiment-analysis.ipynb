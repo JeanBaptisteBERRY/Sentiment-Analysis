{
 "metadata": {
  "name": "",
  "signature": "sha256:259152fac44d24bb9b2809ae54c896226f68a7a666d88873d1b1140ad62af2f9"
 },
 "nbformat": 3,
 "nbformat_minor": 0,
 "worksheets": [
  {
   "cells": [
    {
     "cell_type": "markdown",
     "metadata": {},
     "source": [
      "# 1. Theory\n",
      "\n",
      "## 1.1 naive Bayes Classification\n",
      "\n",
      "$x_i$: Feature vector for datum $i$  \n",
      "\n",
      "$x_i\\in C$ where $C$ is $$\n",
      "\n",
      "\n",
      "$$P(\\omega_j | x_i) = \\frac{P(x_i | \\omega_j) . P(\\omega_j)}{P(x_i)}$$\n",
      "\n",
      "$P(x_i)$ plays as a normalization factor, and therefore is the same for al"
     ]
    },
    {
     "cell_type": "code",
     "collapsed": false,
     "input": [],
     "language": "python",
     "metadata": {},
     "outputs": []
    }
   ],
   "metadata": {}
  }
 ]
}
